{
 "cells": [
  {
   "cell_type": "markdown",
   "metadata": {},
   "source": [
    "# ETL Implementation\n",
    "\n",
    "**Rudy Meza**\n",
    "\n"
   ]
  },
  {
   "cell_type": "markdown",
   "metadata": {},
   "source": [
    "# Index\n",
    "\n",
    "- [Abstract](#Abstract)\n",
    "- [1. Introduction](#1.-Introduction)\n",
    "- [2. Extract-Transform-Load](#2.-Extract-Transform-Load)\n",
    "    - [2.1 The ETL Process](#2.1-The-ETL-Process)\n",
    "    - [2.2 Data Exploration](#2.2-Data-Exploration)\n",
    "    - [2.3 Data Preparation](#2.3-Data-Preparation)\n",
    "    - [2.4 Read the Data Using Python](#2.4-Reading-the-Data-Using-Python)\n",
    "         - [2.4.1 Reading Sample Data](#2.4.1-Reading-Sample-Data)\n",
    "         - [2.4.2 Reading the MRST Data](#2.4.2-Reading-the-MRST-Data)\n",
    "    - [2.5 Writing an Installation Script](#2.5-Writing-an-Installation-Script)\n",
    "- [3. Analysis and Visualization](#3.-Project-Description)\n",
    "    - [3.1 Running Queries in MySQL Workbech](#3.1-Running-Queries-in-MySQL-Workbech)\n",
    "    - [3.2 Running Queries From Python](#3.2-Running-Queries-From-Python)\n",
    "    - [3.3 Explore Trends](#3.3-Explore-Trends)\n",
    "    - [3.4 Explore Percentage Change](#3.4-Explore-Percentage-Change)\n",
    "    - [3.5 Explore Rolling Time Windows](#3.5-Explore-Rolling-Time-Windows)\n",
    "- [Conclusion](#Conclusion)\n",
    "- [References](#References)"
   ]
  },
  {
   "cell_type": "markdown",
   "metadata": {},
   "source": [
    "[Back to top](#Index)\n",
    "\n",
    "\n",
    "##  Abstract\n",
    "\n",
    "The folling ETL (Extract, Transform, and Load) process will be applied to MRTS Dataset (pulled from Census) and provdide the following"
   ]
  },
  {
   "cell_type": "markdown",
   "metadata": {},
   "source": [
    "[Back to top](#Index)\n",
    "\n",
    "\n",
    "## 1. Introduction\n",
    "\n",
    "In the following analysis, the MRTS Retail dataset. Finding's indicate that overall, sporting goods stores attract the most spening out of bookstores, sporting goods stores, and hobbies, toys, and games stores. The least attractive spending is shown to be bookstores. This could be due to Covid restrictions and the online book market.\n",
    "\n",
    "The tools used are the following:\n",
    "*  SQL\n",
    "*  Python\n",
    "*  Time-Series Analysis<br>\n",
    "\n",
    "\n"
   ]
  },
  {
   "cell_type": "markdown",
   "metadata": {},
   "source": [
    "[Back to top](#Index)\n",
    "\n",
    "## 2. Extract-Transform-Load\n",
    "\n"
   ]
  },
  {
   "cell_type": "markdown",
   "metadata": {},
   "source": [
    "[Back to top](#Index)\n",
    "\n",
    "### 2.1 The ETL Process\n",
    "\n",
    "First, visually look at the raw data and decide the following:\n",
    "*  What are we going to extract?\n",
    "*  Can we index rows?\n",
    "*  Would task be easier in Python?\n",
    "*  What will be the most difficult task?\n",
    "\n",
    "\n",
    "From the raw data, I saw an approach to index the rows I needed. From here, I could pivot the columns of years into one main column called month_year with the sales data. The challenge was doing this for multple spreadsheets in the file. This was actaully not too difficult. The read_excel function in pandas allows me to index and read all the spreadsheets as a key for a dictionay. All I had to do was concat the values and then perform a pivot to reshape the data. The last part of the program applies cleaning code before inserting data into a my sql table."
   ]
  },
  {
   "cell_type": "markdown",
   "metadata": {},
   "source": [
    "![alt text](code_part1.png)"
   ]
  },
  {
   "cell_type": "markdown",
   "metadata": {},
   "source": [
    "[Back to top](#Index)\n",
    "\n",
    "### 2.2 Data Exploration\n",
    "\n",
    "\n",
    "\n",
    "The Advance Monthly and Monthly Retail Trade Surveys (MARTS  and MRTS) are surveys that are put together to resemble all the retail economic activity in the United States."
   ]
  },
  {
   "cell_type": "markdown",
   "metadata": {},
   "source": [
    "[Back to top](#Index)\n",
    "\n",
    "### 2.3 Data Preparation\n",
    "\n",
    "\n",
    "One modifictation was the pivot longer process to reshape the dataframe from a wide to long format. This was done using pandas.\n"
   ]
  },
  {
   "cell_type": "markdown",
   "metadata": {},
   "source": [
    "[Back to top](#Index)\n",
    "\n",
    "### 2.4 Read the Data Using Python\n",
    "\n",
    "Python can read csv files using the following function: csv.reader from the csv library. From here, we can use a for loop to complete an iterative process for rows. The following example is just counting the rows of my csv file without the headers.<br><br>![alt text](code_part2.png)"
   ]
  },
  {
   "cell_type": "markdown",
   "metadata": {},
   "source": [
    "[Back to top](#Index)\n",
    "\n",
    "### 2.4.1 Reading Sample Data\n",
    "\n",
    "Describe the sample dataset that you have defined to test your Python script to read CSV files and explain how you used Python to read it.<br> The following example is printing all rows. Using the with statement, I don't need to use a close function. I'm specifying the delimiter with commas.<br><br>![alt text](sample_code.png)"
   ]
  },
  {
   "cell_type": "markdown",
   "metadata": {},
   "source": [
    "[Back to top](#Index)\n",
    "\n",
    "### 2.4.2 Reading the MRTS Data\n",
    "\n",
    "Describe how to read the MRTS CSV file using a Python script.\n",
    "Using pandas read_excel file and joining with os file path join to locate file in directory. The goal is to read the excel file as a dictonary and then concat the worksheets together.<br><br>![alt text](code_part3.png)\n",
    "\n"
   ]
  },
  {
   "cell_type": "markdown",
   "metadata": {},
   "source": [
    "[Back to top](#Index)\n",
    "\n",
    "### 2.5 Writing an Installation Script\n",
    "\n",
    "Describe how you wrote a Python installation script to read your dataset in MySQL WorkBench. The prcoess begins by using the MySQL connector to our DB. From here, I write a table a table script with the correct number of characters to store our values. Initially, I stored/inserted the values from python to MySQL as character values. I can perfomr CASTING functions in my script pull later on in section 3. Next, comes the simple row count check to verify that we have the correct number of rows. <br><br>![alt text](install_one.png)<br><br>![alt text](install_two.png)<br><br>![alt text](install_three.png)"
   ]
  },
  {
   "cell_type": "markdown",
   "metadata": {},
   "source": [
    "\n",
    "[Back to top](#Index)\n",
    "\n",
    "## 3. Analysis and Visualization\n",
    "\n",
    "For each of the sections below, make sure you include a description of the steps you followed. Whenever possible, include screenshots of your code or program windows to demonstrate your steps.\n",
    "\n",
    "Here, describe the differences, advantages, and disadvantages of running *queries* against your dataset using the MySQL Workbench or a Python environment."
   ]
  },
  {
   "cell_type": "markdown",
   "metadata": {},
   "source": [
    "[Back to top](#Index)\n",
    "\n",
    "### 3.1 Running Queries in MySQL Workbech\n",
    "\n",
    "I ran four checks to assess the following:\n",
    "\n",
    "  * Total Row Counts\n",
    "  * Total Sum of Sales in 2020 for Business 'All other home furnishings stores'\n",
    "  * Total Sum of Sales Per Business\n",
    "  * Grand Total SUM of Sales of ALL Business\n",
    "\n",
    "All checks match the raw file and the output file. "
   ]
  },
  {
   "cell_type": "markdown",
   "metadata": {},
   "source": [
    "[Back to top](#Index)\n",
    "\n",
    "### 3.2 Running Queries From Python\n",
    "\n",
    "These checks were tested and compared to the raw excel file. The excelf ile with subtotal function in excel. This was used because the raw file has missing data and contained a place holder in the missing file such as (s).\n",
    "\n",
    "Overall, these checks were validated to match the raw file."
   ]
  },
  {
   "cell_type": "markdown",
   "metadata": {},
   "source": [
    "[Back to top](#Index)\n",
    "\n",
    "### 3.3 Explore Trends\n",
    "\n",
    "Describe which *queries* you wrote the explore the differences in trends between various categories in your data.\n",
    "\n",
    "In your submission make sure to answer the following:\n",
    "\n",
    "- What is an economic trend and why is it considered an important measure to predict quantities, like spending patterns?\n",
    "The economic trend is the direction of the series. By applying a time-series decomposition, we can split the series into componenets. The componenets are made up of the following:\n",
    "  * Trend\n",
    "  * Seasonality\n",
    "  * Remainder <br>\n",
    "- We can see what direction the trend is moving. For example, is the trend increasing over time? Is it positive? How much of the series is repetitive or seasonal? Does it spike during the holidays? What about during the summer? Before school starts? These are all seasonal components. Lastly, the remainder. Is this random, or are there still predictive patterns left? If so, we might change the assumption that the seasonal component is constant over the entire series.\n",
    "- What is the trend of the retail and food services categories? Can this data be displayed clearly or do you need to adjust some parameters to reduce extraneous details and be able to visualize a clean trend?\n",
    "- The retail and food services series needs to de decomposed into it's components. The trend could also be deseasonalized. The overall trend seems to be increasing over time. <br><br>![alt text](retail_one.png)<br><br>![alt text](retail_two.png)<br><br>\n",
    "- When comparing businesses like bookstores, sporting goods stores, and hobbies, toys, and games stores, what is the highest trend of all of these options? Which one grew faster? Which one is higher? Is there a seasonal pattern? Were there any changes in 2020? Which is better, monthly or yearly? <br> \n",
    "- The highest trend is Sporting Goods Stores. Sporting Goods Stores grew faster over time. There are seasonal patterns for each series. I think yearly is much cleaner, but monthly gives you more detail. Yearly is better. We can see that in 2020, a dip then a hugh spike in our monthly data. Our annualized data shows a spike for each series. <br><br>![alt text](trend_2.png)<br><br>![alt text](trend_1.png)<br><br>![alt text](season.png)"
   ]
  },
  {
   "cell_type": "markdown",
   "metadata": {},
   "source": [
    "[Back to top](#Index)\n",
    "\n",
    "### 3.4 Explore Percentage Change\n",
    "\n",
    "Describe which *queries* you wrote to explore the differences in trends between various categories in your data.\n",
    "\n",
    "In your submission make sure to answer the following:\n",
    "\n",
    "- In economics, what is the percentage change and why is it considered an important measure to predict quantities like spending patterns?\n",
    "    *  Percent Changes are differences between the current and lagged value divided by the lagged value. This gives us the change as a percentage from the initial starting period. This is important mesure to predict because it gives us an easy measure to quantify the difference between each time period. \n",
    "- Consider the women's clothing and men's clothing businesses and their percentage change. How are these two businesses related? For each of the two businesses, what is the percentage of contribution to the whole and how does it change over time?<br>\n",
    "    *  These business are related in the sense that they're both in clothing retail. The only difference is male/female. Men Clothing sales make up roughly 11% of the total, while Women's clothing makes up 41% of the total sales."
   ]
  },
  {
   "cell_type": "markdown",
   "metadata": {},
   "source": [
    "[Back to top](#Index)\n",
    "\n",
    "### 3.5 Explore Rolling Time Windows\n",
    "\n",
    "\n",
    "I created a WINDOW query for a golling average of 3 months. This would use the BETWEEN statement for 2 and the current row. This is also including a date change format statement and filtering on a specific business<br><br>![alt text](rolling_query.png)<br><br> \n",
    "-  In economics, a rolling average is usefull to see over time how a unit of measure is increasing or decreasing. In this case we can see how sales for Women and Men's clothing is increasing or decreasing over time.<br><br>![alt text](rolling_3.png)<br><br>\n",
    "-  We can see that Women's clothing has the highest spending compared to Men's. Also, Women's clothing has the highest recovery compared to Men's post covid.\n",
    "\n"
   ]
  },
  {
   "cell_type": "markdown",
   "metadata": {},
   "source": [
    "[Back to top](#Index)\n",
    "\n",
    "## Conclusion\n",
    "\n",
    "Describe your conclusions. Which one of the businesses considered seems like it's going to attract the least spending? Which business seems likely to attract the most spending? \n",
    "-  Overall, the Sporting Goods stores attract the most spending out of all the business in this analysis. Book stores seem to attract the least spending. This could also be due to online books with online competitors.\n",
    "-  Future analysis could be to investigate the online books markets.\n",
    "\n",
    "\n"
   ]
  },
  {
   "cell_type": "markdown",
   "metadata": {},
   "source": [
    "\n",
    "[Back to top](#Index\n",
    ")\n",
    "## References\n",
    "\n",
    "Add all references you used to complete this project.\n",
    "\n",
    "Use this format for articles:\n",
    "- Author Last Name, Author First Name. “Article Title.” Journal Title Volume #, no. Issue # (year): page range.\n",
    "\n",
    "- Ex: Doe, John. “Data Engineering.” Data Engineering Journal 18, no. 4 (2021): 12-18.\n",
    "\n",
    "Use this format for websites:\n",
    "- Author Last Name, Author First Name. “Title of Web Page.” Name of Website. Publishing organization, publication or revision date if available. Access date if no other date is available. URL .\n",
    "\n",
    "- Doe, John. “Data Engineering.” Data Engineer Resource. Cengage, 2021. www.dataengineerresource.com .\n"
   ]
  },
  {
   "cell_type": "code",
   "execution_count": 4,
   "metadata": {},
   "outputs": [
    {
     "name": "stderr",
     "output_type": "stream",
     "text": [
      "[NbConvertApp] Converting notebook Module_8_Final_Project_Template.ipynb to html\n",
      "[NbConvertApp] Writing 596814 bytes to Module_8_Final_Project_Template.html\n"
     ]
    }
   ],
   "source": [
    "!jupyter nbconvert  Module_8_Final_Project_Template.ipynb --to html"
   ]
  }
 ],
 "metadata": {
  "kernelspec": {
   "display_name": "Python 3",
   "language": "python",
   "name": "python3"
  },
  "language_info": {
   "codemirror_mode": {
    "name": "ipython",
    "version": 3
   },
   "file_extension": ".py",
   "mimetype": "text/x-python",
   "name": "python",
   "nbconvert_exporter": "python",
   "pygments_lexer": "ipython3",
   "version": "3.10.9"
  }
 },
 "nbformat": 4,
 "nbformat_minor": 4
}
