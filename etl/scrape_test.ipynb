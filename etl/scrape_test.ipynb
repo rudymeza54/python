{
 "cells": [
  {
   "cell_type": "code",
   "execution_count": 542,
   "metadata": {},
   "outputs": [],
   "source": [
    "import requests\n",
    "from bs4 import BeautifulSoup\n",
    "import pandas as pd\n",
    "import json\n",
    "import re\n",
    "\n",
    "\n",
    "url = f'https://catalog.data.gov/dataset?q=&sort=views_recent+desc'\n",
    "\n",
    "\n",
    "\n",
    "response = requests.get(url)\n",
    "\n",
    "content = response.content\n",
    "\n",
    "soup = BeautifulSoup(content,'html.parser')\n",
    "\n",
    "href = []\n",
    "\n",
    "page = soup.find_all('h3')"
   ]
  },
  {
   "cell_type": "code",
   "execution_count": 544,
   "metadata": {},
   "outputs": [],
   "source": [
    "def scrape(url):\n",
    "    \n",
    "    url = url\n",
    "\n",
    "    response = requests.get(url)\n",
    "\n",
    "    content = response.content\n",
    "\n",
    "    soup = BeautifulSoup(content,'html.parser')\n",
    "\n",
    "    return soup\n"
   ]
  },
  {
   "cell_type": "code",
   "execution_count": 549,
   "metadata": {},
   "outputs": [],
   "source": [
    "main_url = []\n",
    "page = [num for num in range(1,10)]\n",
    "for num in page:\n",
    "    url = f'https://catalog.data.gov/dataset?q=&sort=views_recent+desc&page={num}'\n",
    "    main_url.append(url)"
   ]
  },
  {
   "cell_type": "code",
   "execution_count": 551,
   "metadata": {},
   "outputs": [
    {
     "name": "stdout",
     "output_type": "stream",
     "text": [
      "-1\n",
      "-1\n",
      "18\n",
      "-1\n",
      "-1\n",
      "-1\n",
      "<a href=\"#content\">Skip to main content</a>\n",
      "-1\n",
      "-1\n",
      "18\n",
      "-1\n",
      "-1\n",
      "-1\n",
      "<a href=\"#content\">Skip to main content</a>\n",
      "-1\n",
      "-1\n",
      "18\n",
      "-1\n",
      "-1\n",
      "-1\n",
      "<a href=\"#content\">Skip to main content</a>\n",
      "-1\n",
      "-1\n",
      "18\n",
      "-1\n",
      "-1\n",
      "-1\n",
      "<a href=\"#content\">Skip to main content</a>\n",
      "-1\n",
      "-1\n",
      "18\n",
      "-1\n",
      "-1\n",
      "-1\n",
      "<a href=\"#content\">Skip to main content</a>\n",
      "-1\n",
      "-1\n",
      "18\n",
      "-1\n",
      "-1\n",
      "-1\n",
      "<a href=\"#content\">Skip to main content</a>\n",
      "-1\n",
      "-1\n",
      "18\n",
      "-1\n",
      "-1\n",
      "-1\n",
      "<a href=\"#content\">Skip to main content</a>\n",
      "-1\n",
      "-1\n",
      "18\n",
      "-1\n",
      "-1\n",
      "-1\n",
      "<a href=\"#content\">Skip to main content</a>\n",
      "-1\n",
      "-1\n",
      "18\n",
      "-1\n",
      "-1\n",
      "-1\n",
      "<a href=\"#content\">Skip to main content</a>\n"
     ]
    }
   ],
   "source": [
    "\n",
    "links = []\n",
    "\n",
    "for url in main_url:\n",
    "    \n",
    "    page = scrape(url) \n",
    "\n",
    "    for i in page:\n",
    "        a_tag = i.find('a')\n",
    "        if a_tag:\n",
    "            # h = a_tag.get('href')\n",
    "            # if h:\n",
    "            #     x ='https://catalog.data.gov/'+''.join(h)\n",
    "            #     links.append(x)\n",
    "            print(a_tag)"
   ]
  },
  {
   "cell_type": "code",
   "execution_count": 398,
   "metadata": {},
   "outputs": [],
   "source": [
    "list = []\n",
    "for i in soup.find_all('h3'):\n",
    "    a_tag = i.find('a')\n",
    "    if a_tag:\n",
    "        h = a_tag.get('href')\n",
    "        if h:\n",
    "            list.append(h)"
   ]
  },
  {
   "cell_type": "code",
   "execution_count": 399,
   "metadata": {},
   "outputs": [
    {
     "data": {
      "text/plain": [
       "['/dataset/electric-vehicle-population-data',\n",
       " '/dataset/fdic-failed-bank-list',\n",
       " '/dataset/dynamic-small-business-search-dsbs-4f0da',\n",
       " '/dataset/crime-data-from-2020-to-present',\n",
       " '/dataset/supply-chain-greenhouse-gas-emission-factors-v1-2-by-naics-6',\n",
       " '/dataset/lottery-powerball-winning-numbers-beginning-2010',\n",
       " '/dataset/fruit-and-vegetable-prices',\n",
       " '/dataset/military-installations-ranges-and-training-areas',\n",
       " '/dataset/award-exploration-tool',\n",
       " '/dataset/national-obesity-by-state-d765a',\n",
       " '/dataset/covid-19-outcomes-by-vaccination-status',\n",
       " '/dataset/zip-code-data',\n",
       " '/dataset/alzheimers-disease-and-healthy-aging-data',\n",
       " '/dataset/motor-vehicle-collisions-crashes',\n",
       " '/dataset/death-rates-for-suicide-by-sex-race-hispanic-origin-and-age-united-states-020c1',\n",
       " '/dataset/national-student-loan-data-system-722b0',\n",
       " '/dataset/lottery-mega-millions-winning-numbers-beginning-2002',\n",
       " '/dataset/consumer-complaint-database',\n",
       " '/dataset/real-estate-sales-2001-2018',\n",
       " '/dataset/auto-sales']"
      ]
     },
     "execution_count": 399,
     "metadata": {},
     "output_type": "execute_result"
    }
   ],
   "source": [
    "list"
   ]
  },
  {
   "cell_type": "code",
   "execution_count": 310,
   "metadata": {},
   "outputs": [],
   "source": [
    "link = []\n",
    "for i in list:\n",
    "    x ='https://catalog.data.gov/'+''.join(i)\n",
    "    link.append(x)"
   ]
  },
  {
   "cell_type": "code",
   "execution_count": 540,
   "metadata": {},
   "outputs": [],
   "source": [
    "list_dict = []\n",
    "list_df = []\n",
    "main = []\n",
    "for i in link:\n",
    "    x= scrape(i)\n",
    "    title = x.find('h1',{'itemprop':'name'}).text.strip()\n",
    "    description = x.find('div',{'itemprop': 'description'}).text.strip()\n",
    "    date = x.find('span',{'itemprop':'dateModified'}).text.strip()\n",
    "    file_extension = [item.text.strip() for item in x.find_all('a',{'itemprop':'contentUrl'})]\n",
    "    file_extension = [re.findall(r'File(\\w+)', item) for item in file_extension]\n",
    "    file_extension = [''.join(item) for item in file_extension]\n",
    "    out={\n",
    "        \"title\":title,\n",
    "        \"description\": description,\n",
    "        \"date\": date,\n",
    "        \"ext\": file_extension\n",
    "    }\n",
    "    list_dict.append(out)\n",
    "\n",
    "\n",
    "for i in list_dict:\n",
    "    x = pd.DataFrame(i,  index=None)\n",
    "    list_df.append(x)\n",
    "\n",
    "\n",
    "master = pd.concat(list_df)\n",
    "        "
   ]
  },
  {
   "cell_type": "code",
   "execution_count": 541,
   "metadata": {},
   "outputs": [
    {
     "data": {
      "text/html": [
       "<div>\n",
       "<style scoped>\n",
       "    .dataframe tbody tr th:only-of-type {\n",
       "        vertical-align: middle;\n",
       "    }\n",
       "\n",
       "    .dataframe tbody tr th {\n",
       "        vertical-align: top;\n",
       "    }\n",
       "\n",
       "    .dataframe thead th {\n",
       "        text-align: right;\n",
       "    }\n",
       "</style>\n",
       "<table border=\"1\" class=\"dataframe\">\n",
       "  <thead>\n",
       "    <tr style=\"text-align: right;\">\n",
       "      <th></th>\n",
       "      <th>title</th>\n",
       "      <th>description</th>\n",
       "      <th>date</th>\n",
       "      <th>ext</th>\n",
       "    </tr>\n",
       "  </thead>\n",
       "  <tbody>\n",
       "    <tr>\n",
       "      <th>0</th>\n",
       "      <td>Electric Vehicle Population Data</td>\n",
       "      <td>This dataset shows the Battery Electric Vehicl...</td>\n",
       "      <td>June 22, 2024</td>\n",
       "      <td>CSV</td>\n",
       "    </tr>\n",
       "    <tr>\n",
       "      <th>1</th>\n",
       "      <td>Electric Vehicle Population Data</td>\n",
       "      <td>This dataset shows the Battery Electric Vehicl...</td>\n",
       "      <td>June 22, 2024</td>\n",
       "      <td>RDF</td>\n",
       "    </tr>\n",
       "    <tr>\n",
       "      <th>2</th>\n",
       "      <td>Electric Vehicle Population Data</td>\n",
       "      <td>This dataset shows the Battery Electric Vehicl...</td>\n",
       "      <td>June 22, 2024</td>\n",
       "      <td>JSON</td>\n",
       "    </tr>\n",
       "    <tr>\n",
       "      <th>3</th>\n",
       "      <td>Electric Vehicle Population Data</td>\n",
       "      <td>This dataset shows the Battery Electric Vehicl...</td>\n",
       "      <td>June 22, 2024</td>\n",
       "      <td>XML</td>\n",
       "    </tr>\n",
       "    <tr>\n",
       "      <th>0</th>\n",
       "      <td>FDIC Failed Bank List</td>\n",
       "      <td>The FDIC is often appointed as receiver for fa...</td>\n",
       "      <td>November 12, 2020</td>\n",
       "      <td>CSV</td>\n",
       "    </tr>\n",
       "    <tr>\n",
       "      <th>...</th>\n",
       "      <td>...</td>\n",
       "      <td>...</td>\n",
       "      <td>...</td>\n",
       "      <td>...</td>\n",
       "    </tr>\n",
       "    <tr>\n",
       "      <th>16</th>\n",
       "      <td>National Student Loan Data System</td>\n",
       "      <td>The National Student Loan Data System (NSLDS) ...</td>\n",
       "      <td>August 12, 2023</td>\n",
       "      <td></td>\n",
       "    </tr>\n",
       "    <tr>\n",
       "      <th>0</th>\n",
       "      <td>Real Estate Sales 2001-2021 GL</td>\n",
       "      <td>The Office of Policy and Management maintains ...</td>\n",
       "      <td>February 17, 2024</td>\n",
       "      <td>CSV</td>\n",
       "    </tr>\n",
       "    <tr>\n",
       "      <th>1</th>\n",
       "      <td>Real Estate Sales 2001-2021 GL</td>\n",
       "      <td>The Office of Policy and Management maintains ...</td>\n",
       "      <td>February 17, 2024</td>\n",
       "      <td>RDF</td>\n",
       "    </tr>\n",
       "    <tr>\n",
       "      <th>2</th>\n",
       "      <td>Real Estate Sales 2001-2021 GL</td>\n",
       "      <td>The Office of Policy and Management maintains ...</td>\n",
       "      <td>February 17, 2024</td>\n",
       "      <td>JSON</td>\n",
       "    </tr>\n",
       "    <tr>\n",
       "      <th>3</th>\n",
       "      <td>Real Estate Sales 2001-2021 GL</td>\n",
       "      <td>The Office of Policy and Management maintains ...</td>\n",
       "      <td>February 17, 2024</td>\n",
       "      <td>XML</td>\n",
       "    </tr>\n",
       "  </tbody>\n",
       "</table>\n",
       "<p>71 rows × 4 columns</p>\n",
       "</div>"
      ],
      "text/plain": [
       "                                title  \\\n",
       "0    Electric Vehicle Population Data   \n",
       "1    Electric Vehicle Population Data   \n",
       "2    Electric Vehicle Population Data   \n",
       "3    Electric Vehicle Population Data   \n",
       "0               FDIC Failed Bank List   \n",
       "..                                ...   \n",
       "16  National Student Loan Data System   \n",
       "0      Real Estate Sales 2001-2021 GL   \n",
       "1      Real Estate Sales 2001-2021 GL   \n",
       "2      Real Estate Sales 2001-2021 GL   \n",
       "3      Real Estate Sales 2001-2021 GL   \n",
       "\n",
       "                                          description               date   ext  \n",
       "0   This dataset shows the Battery Electric Vehicl...      June 22, 2024   CSV  \n",
       "1   This dataset shows the Battery Electric Vehicl...      June 22, 2024   RDF  \n",
       "2   This dataset shows the Battery Electric Vehicl...      June 22, 2024  JSON  \n",
       "3   This dataset shows the Battery Electric Vehicl...      June 22, 2024   XML  \n",
       "0   The FDIC is often appointed as receiver for fa...  November 12, 2020   CSV  \n",
       "..                                                ...                ...   ...  \n",
       "16  The National Student Loan Data System (NSLDS) ...    August 12, 2023        \n",
       "0   The Office of Policy and Management maintains ...  February 17, 2024   CSV  \n",
       "1   The Office of Policy and Management maintains ...  February 17, 2024   RDF  \n",
       "2   The Office of Policy and Management maintains ...  February 17, 2024  JSON  \n",
       "3   The Office of Policy and Management maintains ...  February 17, 2024   XML  \n",
       "\n",
       "[71 rows x 4 columns]"
      ]
     },
     "execution_count": 541,
     "metadata": {},
     "output_type": "execute_result"
    }
   ],
   "source": [
    "# master.to_csv(\"test.csv\", index=False)\n",
    "master"
   ]
  },
  {
   "cell_type": "code",
   "execution_count": 507,
   "metadata": {},
   "outputs": [
    {
     "data": {
      "text/plain": [
       "[{'title': 'Electric Vehicle Population Data',\n",
       "  'description': 'This dataset shows the Battery Electric Vehicles (BEVs) and Plug-in Hybrid Electric Vehicles (PHEVs) that are currently registered through Washington State Department of Licensing (DOL).',\n",
       "  'date': 'June 22, 2024',\n",
       "  'ext': ['CSV', 'RDF', 'JSON', 'XML']},\n",
       " {'title': 'FDIC Failed Bank List',\n",
       "  'description': 'The FDIC is often appointed as receiver for failed banks. This list includes banks which have failed since October 1, 2000.',\n",
       "  'date': 'November 12, 2020',\n",
       "  'ext': ['CSV', '']}]"
      ]
     },
     "execution_count": 507,
     "metadata": {},
     "output_type": "execute_result"
    }
   ],
   "source": []
  },
  {
   "cell_type": "code",
   "execution_count": 525,
   "metadata": {},
   "outputs": [],
   "source": [
    "test = []\n",
    "for i in main:\n",
    "    x = pd.DataFrame(i, index=None)\n",
    "    test.append(x)\n",
    "    "
   ]
  },
  {
   "cell_type": "code",
   "execution_count": 527,
   "metadata": {},
   "outputs": [
    {
     "name": "stderr",
     "output_type": "stream",
     "text": [
      "C:\\Users\\rudym\\AppData\\Local\\Temp\\ipykernel_18492\\3354860880.py:3: FutureWarning: The frame.append method is deprecated and will be removed from pandas in a future version. Use pandas.concat instead.\n",
      "  master = master.append(i)\n"
     ]
    }
   ],
   "source": [
    "master = pd.DataFrame()\n",
    "for i in test:\n",
    "    master = master.append(i)"
   ]
  },
  {
   "cell_type": "code",
   "execution_count": 528,
   "metadata": {},
   "outputs": [
    {
     "data": {
      "text/html": [
       "<div>\n",
       "<style scoped>\n",
       "    .dataframe tbody tr th:only-of-type {\n",
       "        vertical-align: middle;\n",
       "    }\n",
       "\n",
       "    .dataframe tbody tr th {\n",
       "        vertical-align: top;\n",
       "    }\n",
       "\n",
       "    .dataframe thead th {\n",
       "        text-align: right;\n",
       "    }\n",
       "</style>\n",
       "<table border=\"1\" class=\"dataframe\">\n",
       "  <thead>\n",
       "    <tr style=\"text-align: right;\">\n",
       "      <th></th>\n",
       "      <th>title</th>\n",
       "      <th>description</th>\n",
       "      <th>date</th>\n",
       "      <th>ext</th>\n",
       "    </tr>\n",
       "  </thead>\n",
       "  <tbody>\n",
       "    <tr>\n",
       "      <th>0</th>\n",
       "      <td>Electric Vehicle Population Data</td>\n",
       "      <td>This dataset shows the Battery Electric Vehicl...</td>\n",
       "      <td>June 22, 2024</td>\n",
       "      <td>CSV</td>\n",
       "    </tr>\n",
       "    <tr>\n",
       "      <th>1</th>\n",
       "      <td>Electric Vehicle Population Data</td>\n",
       "      <td>This dataset shows the Battery Electric Vehicl...</td>\n",
       "      <td>June 22, 2024</td>\n",
       "      <td>RDF</td>\n",
       "    </tr>\n",
       "    <tr>\n",
       "      <th>2</th>\n",
       "      <td>Electric Vehicle Population Data</td>\n",
       "      <td>This dataset shows the Battery Electric Vehicl...</td>\n",
       "      <td>June 22, 2024</td>\n",
       "      <td>JSON</td>\n",
       "    </tr>\n",
       "    <tr>\n",
       "      <th>3</th>\n",
       "      <td>Electric Vehicle Population Data</td>\n",
       "      <td>This dataset shows the Battery Electric Vehicl...</td>\n",
       "      <td>June 22, 2024</td>\n",
       "      <td>XML</td>\n",
       "    </tr>\n",
       "    <tr>\n",
       "      <th>0</th>\n",
       "      <td>FDIC Failed Bank List</td>\n",
       "      <td>The FDIC is often appointed as receiver for fa...</td>\n",
       "      <td>November 12, 2020</td>\n",
       "      <td>CSV</td>\n",
       "    </tr>\n",
       "    <tr>\n",
       "      <th>1</th>\n",
       "      <td>FDIC Failed Bank List</td>\n",
       "      <td>The FDIC is often appointed as receiver for fa...</td>\n",
       "      <td>November 12, 2020</td>\n",
       "      <td></td>\n",
       "    </tr>\n",
       "  </tbody>\n",
       "</table>\n",
       "</div>"
      ],
      "text/plain": [
       "                              title  \\\n",
       "0  Electric Vehicle Population Data   \n",
       "1  Electric Vehicle Population Data   \n",
       "2  Electric Vehicle Population Data   \n",
       "3  Electric Vehicle Population Data   \n",
       "0             FDIC Failed Bank List   \n",
       "1             FDIC Failed Bank List   \n",
       "\n",
       "                                         description               date   ext  \n",
       "0  This dataset shows the Battery Electric Vehicl...      June 22, 2024   CSV  \n",
       "1  This dataset shows the Battery Electric Vehicl...      June 22, 2024   RDF  \n",
       "2  This dataset shows the Battery Electric Vehicl...      June 22, 2024  JSON  \n",
       "3  This dataset shows the Battery Electric Vehicl...      June 22, 2024   XML  \n",
       "0  The FDIC is often appointed as receiver for fa...  November 12, 2020   CSV  \n",
       "1  The FDIC is often appointed as receiver for fa...  November 12, 2020        "
      ]
     },
     "execution_count": 528,
     "metadata": {},
     "output_type": "execute_result"
    }
   ],
   "source": [
    "master"
   ]
  },
  {
   "cell_type": "code",
   "execution_count": 509,
   "metadata": {},
   "outputs": [
    {
     "data": {
      "text/html": [
       "<div>\n",
       "<style scoped>\n",
       "    .dataframe tbody tr th:only-of-type {\n",
       "        vertical-align: middle;\n",
       "    }\n",
       "\n",
       "    .dataframe tbody tr th {\n",
       "        vertical-align: top;\n",
       "    }\n",
       "\n",
       "    .dataframe thead th {\n",
       "        text-align: right;\n",
       "    }\n",
       "</style>\n",
       "<table border=\"1\" class=\"dataframe\">\n",
       "  <thead>\n",
       "    <tr style=\"text-align: right;\">\n",
       "      <th></th>\n",
       "      <th>title</th>\n",
       "      <th>description</th>\n",
       "      <th>date</th>\n",
       "      <th>ext</th>\n",
       "    </tr>\n",
       "  </thead>\n",
       "  <tbody>\n",
       "    <tr>\n",
       "      <th>0</th>\n",
       "      <td>Electric Vehicle Population Data</td>\n",
       "      <td>This dataset shows the Battery Electric Vehicl...</td>\n",
       "      <td>June 22, 2024</td>\n",
       "      <td>[CSV, RDF, JSON, XML]</td>\n",
       "    </tr>\n",
       "    <tr>\n",
       "      <th>1</th>\n",
       "      <td>FDIC Failed Bank List</td>\n",
       "      <td>The FDIC is often appointed as receiver for fa...</td>\n",
       "      <td>November 12, 2020</td>\n",
       "      <td>[CSV, ]</td>\n",
       "    </tr>\n",
       "  </tbody>\n",
       "</table>\n",
       "</div>"
      ],
      "text/plain": [
       "                              title  \\\n",
       "0  Electric Vehicle Population Data   \n",
       "1             FDIC Failed Bank List   \n",
       "\n",
       "                                         description               date  \\\n",
       "0  This dataset shows the Battery Electric Vehicl...      June 22, 2024   \n",
       "1  The FDIC is often appointed as receiver for fa...  November 12, 2020   \n",
       "\n",
       "                     ext  \n",
       "0  [CSV, RDF, JSON, XML]  \n",
       "1                [CSV, ]  "
      ]
     },
     "execution_count": 509,
     "metadata": {},
     "output_type": "execute_result"
    }
   ],
   "source": [
    "pd.DataFrame(main,  index = None)"
   ]
  },
  {
   "cell_type": "code",
   "execution_count": 400,
   "metadata": {},
   "outputs": [
    {
     "data": {
      "text/plain": [
       "['Electric Vehicle Population Data',\n",
       " 'FDIC Failed Bank List',\n",
       " 'Dynamic Small Business Search (DSBS)',\n",
       " 'Crime Data from 2020 to Present',\n",
       " 'Supply Chain Greenhouse Gas Emission Factors v1.2 by NAICS-6',\n",
       " 'Lottery Powerball Winning Numbers: Beginning 2010',\n",
       " 'Fruit and Vegetable Prices',\n",
       " 'Military Installations, Ranges, and Training Areas',\n",
       " 'Award Exploration Tool',\n",
       " 'National Obesity By State',\n",
       " 'COVID-19 Outcomes by Vaccination Status - Historical',\n",
       " 'ZIP Code Data',\n",
       " \"Alzheimer's Disease and Healthy Aging Data\",\n",
       " 'Motor Vehicle Collisions - Crashes',\n",
       " 'Death rates for suicide, by sex, race, Hispanic origin, and age: United States',\n",
       " 'National Student Loan Data System',\n",
       " 'Lottery Mega Millions Winning Numbers: Beginning 2002',\n",
       " 'Consumer Complaint Database',\n",
       " 'Real Estate Sales 2001-2021 GL',\n",
       " 'Auto Sales']"
      ]
     },
     "execution_count": 400,
     "metadata": {},
     "output_type": "execute_result"
    }
   ],
   "source": [
    "x = [item.strip() for item in href]\n",
    "[item.split(\"\\n\\n\")[0] for item in x]"
   ]
  },
  {
   "cell_type": "code",
   "execution_count": null,
   "metadata": {},
   "outputs": [],
   "source": []
  },
  {
   "cell_type": "code",
   "execution_count": 393,
   "metadata": {},
   "outputs": [],
   "source": [
    "pattern = r'electric'"
   ]
  },
  {
   "cell_type": "code",
   "execution_count": 402,
   "metadata": {},
   "outputs": [],
   "source": [
    "item = [item for item in href if  re.search(pattern, str(item))]"
   ]
  },
  {
   "cell_type": "code",
   "execution_count": 403,
   "metadata": {},
   "outputs": [
    {
     "data": {
      "text/plain": [
       "[]"
      ]
     },
     "execution_count": 403,
     "metadata": {},
     "output_type": "execute_result"
    }
   ],
   "source": [
    "item"
   ]
  },
  {
   "cell_type": "code",
   "execution_count": 404,
   "metadata": {},
   "outputs": [],
   "source": [
    "out = 'https://catalog.data.gov/'+''.join('/dataset/electric-vehicle-population-data')"
   ]
  },
  {
   "cell_type": "code",
   "execution_count": 405,
   "metadata": {},
   "outputs": [],
   "source": [
    "output = scrape(out)"
   ]
  },
  {
   "cell_type": "code",
   "execution_count": 410,
   "metadata": {},
   "outputs": [],
   "source": [
    "title = output.find('h1',{'itemprop':'name'}).text.strip()\n",
    "description = output.find('div',{'itemprop': 'description'}).text.strip()\n",
    "date = output.find('span',{'itemprop':'dateModified'}).text.strip()\n",
    "file_extension = [item.text.strip() for item in output.find_all('a',{'itemprop':'contentUrl'})]\n",
    "file_extension = [re.findall(r'File(\\w+)', item) for item in file_extension]\n",
    "# file_extension = [''.join(item) for item in file_extension]"
   ]
  },
  {
   "cell_type": "code",
   "execution_count": 412,
   "metadata": {},
   "outputs": [
    {
     "data": {
      "text/plain": [
       "['CSV', 'RDF', 'JSON', 'XML']"
      ]
     },
     "execution_count": 412,
     "metadata": {},
     "output_type": "execute_result"
    }
   ],
   "source": [
    "[item for sublist in file_extension for item in sublist]"
   ]
  },
  {
   "cell_type": "code",
   "execution_count": 134,
   "metadata": {},
   "outputs": [],
   "source": [
    "test = {'title':title,\n",
    " 'description':description,\n",
    " 'date': date,\n",
    " 'extension': file_extension}"
   ]
  },
  {
   "cell_type": "code",
   "execution_count": 135,
   "metadata": {},
   "outputs": [
    {
     "data": {
      "text/html": [
       "<div>\n",
       "<style scoped>\n",
       "    .dataframe tbody tr th:only-of-type {\n",
       "        vertical-align: middle;\n",
       "    }\n",
       "\n",
       "    .dataframe tbody tr th {\n",
       "        vertical-align: top;\n",
       "    }\n",
       "\n",
       "    .dataframe thead th {\n",
       "        text-align: right;\n",
       "    }\n",
       "</style>\n",
       "<table border=\"1\" class=\"dataframe\">\n",
       "  <thead>\n",
       "    <tr style=\"text-align: right;\">\n",
       "      <th></th>\n",
       "      <th>title</th>\n",
       "      <th>description</th>\n",
       "      <th>date</th>\n",
       "      <th>extension</th>\n",
       "    </tr>\n",
       "  </thead>\n",
       "  <tbody>\n",
       "    <tr>\n",
       "      <th>0</th>\n",
       "      <td>Electric Vehicle Population Data</td>\n",
       "      <td>This dataset shows the Battery Electric Vehicl...</td>\n",
       "      <td>June 22, 2024</td>\n",
       "      <td>CSV</td>\n",
       "    </tr>\n",
       "    <tr>\n",
       "      <th>1</th>\n",
       "      <td>Electric Vehicle Population Data</td>\n",
       "      <td>This dataset shows the Battery Electric Vehicl...</td>\n",
       "      <td>June 22, 2024</td>\n",
       "      <td>RDF</td>\n",
       "    </tr>\n",
       "    <tr>\n",
       "      <th>2</th>\n",
       "      <td>Electric Vehicle Population Data</td>\n",
       "      <td>This dataset shows the Battery Electric Vehicl...</td>\n",
       "      <td>June 22, 2024</td>\n",
       "      <td>JSON</td>\n",
       "    </tr>\n",
       "    <tr>\n",
       "      <th>3</th>\n",
       "      <td>Electric Vehicle Population Data</td>\n",
       "      <td>This dataset shows the Battery Electric Vehicl...</td>\n",
       "      <td>June 22, 2024</td>\n",
       "      <td>XML</td>\n",
       "    </tr>\n",
       "  </tbody>\n",
       "</table>\n",
       "</div>"
      ],
      "text/plain": [
       "                              title  \\\n",
       "0  Electric Vehicle Population Data   \n",
       "1  Electric Vehicle Population Data   \n",
       "2  Electric Vehicle Population Data   \n",
       "3  Electric Vehicle Population Data   \n",
       "\n",
       "                                         description           date extension  \n",
       "0  This dataset shows the Battery Electric Vehicl...  June 22, 2024       CSV  \n",
       "1  This dataset shows the Battery Electric Vehicl...  June 22, 2024       RDF  \n",
       "2  This dataset shows the Battery Electric Vehicl...  June 22, 2024      JSON  \n",
       "3  This dataset shows the Battery Electric Vehicl...  June 22, 2024       XML  "
      ]
     },
     "execution_count": 135,
     "metadata": {},
     "output_type": "execute_result"
    }
   ],
   "source": [
    "pd.DataFrame(test)"
   ]
  }
 ],
 "metadata": {
  "kernelspec": {
   "display_name": "base",
   "language": "python",
   "name": "python3"
  },
  "language_info": {
   "codemirror_mode": {
    "name": "ipython",
    "version": 3
   },
   "file_extension": ".py",
   "mimetype": "text/x-python",
   "name": "python",
   "nbconvert_exporter": "python",
   "pygments_lexer": "ipython3",
   "version": "3.10.9"
  }
 },
 "nbformat": 4,
 "nbformat_minor": 2
}
