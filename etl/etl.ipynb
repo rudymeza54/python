{
 "cells": [
  {
   "cell_type": "code",
   "execution_count": 50,
   "metadata": {},
   "outputs": [],
   "source": [
    "import pandas as pd\n",
    "import glob\n",
    "import numpy as np\n",
    "import os"
   ]
  },
  {
   "cell_type": "code",
   "execution_count": 51,
   "metadata": {},
   "outputs": [],
   "source": [
    "dir = os.getcwd()\n"
   ]
  },
  {
   "cell_type": "code",
   "execution_count": 53,
   "metadata": {},
   "outputs": [],
   "source": [
    "file = ''.join(os.path.join(dir,'mrtsales.xlsx'))\n",
    "df = pd.read_excel(file, sheet_name = None, skiprows = 4,nrows = 66)"
   ]
  },
  {
   "cell_type": "code",
   "execution_count": 54,
   "metadata": {},
   "outputs": [],
   "source": [
    "main = pd.concat(df.values(), ignore_index=True)"
   ]
  },
  {
   "cell_type": "code",
   "execution_count": 55,
   "metadata": {},
   "outputs": [],
   "source": [
    "main.drop(columns = ['CY CUM','PY CUM'], inplace=True)"
   ]
  },
  {
   "cell_type": "code",
   "execution_count": 56,
   "metadata": {},
   "outputs": [],
   "source": [
    "\n",
    "cols = [ele for ele in main.columns if '20' in ele or '19' in ele]"
   ]
  },
  {
   "cell_type": "code",
   "execution_count": 57,
   "metadata": {},
   "outputs": [],
   "source": [
    "\n",
    "\n",
    "new = pd.melt(main,id_vars = ['Unnamed: 0','Unnamed: 1'], value_vars=cols, var_name = 'month_year', value_name = 'sales')\n",
    "new = new[new['sales'].notna()]\n",
    "new = new[new['sales']!='(S)']"
   ]
  },
  {
   "cell_type": "code",
   "execution_count": 59,
   "metadata": {},
   "outputs": [
    {
     "name": "stderr",
     "output_type": "stream",
     "text": [
      "C:\\Users\\rudym\\AppData\\Local\\Temp\\ipykernel_7984\\1013948349.py:2: FutureWarning: The default value of regex will change from True to False in a future version. In addition, single character regular expressions will *not* be treated as literal strings when regex=True.\n",
      "  new['month_year'] = new['month_year'].str.replace('.','').str.replace('(p)','')\n",
      "C:\\Users\\rudym\\AppData\\Local\\Temp\\ipykernel_7984\\1013948349.py:2: FutureWarning: The default value of regex will change from True to False in a future version.\n",
      "  new['month_year'] = new['month_year'].str.replace('.','').str.replace('(p)','')\n"
     ]
    }
   ],
   "source": [
    "new.rename(columns = {'Unnamed: 0':'naics_code','Unnamed: 1':'business'}, inplace=True)\n",
    "new['month_year'] = new['month_year'].str.replace('.','',regex=False).str.replace('(p)','',regex=False) "
   ]
  },
  {
   "cell_type": "code",
   "execution_count": 61,
   "metadata": {},
   "outputs": [
    {
     "name": "stdout",
     "output_type": "stream",
     "text": [
      "1         Jan 2021\n",
      "2         Jan 2021\n",
      "3         Jan 2021\n",
      "4         Jan 2021\n",
      "5         Jan 2021\n",
      "            ...   \n",
      "692995    Dec 1992\n",
      "692996    Dec 1992\n",
      "692997    Dec 1992\n",
      "692998    Dec 1992\n",
      "692999    Dec 1992\n",
      "Name: month_year, Length: 22641, dtype: object\n"
     ]
    }
   ],
   "source": [
    "print(new['month_year'])"
   ]
  },
  {
   "cell_type": "code",
   "execution_count": 33,
   "metadata": {},
   "outputs": [],
   "source": [
    "new.to_csv('output.csv')"
   ]
  },
  {
   "cell_type": "code",
   "execution_count": 35,
   "metadata": {},
   "outputs": [],
   "source": [
    "import mysql.connector\n",
    "\n",
    "cnx = mysql.connector.connect(user='root',\n",
    "                              password='Roryreese613!',\n",
    "                              host='127.0.0.1',\n",
    "                              database='bad_sakila',\n",
    "                              auth_plugin='mysql_native_password')"
   ]
  },
  {
   "cell_type": "code",
   "execution_count": 36,
   "metadata": {},
   "outputs": [],
   "source": [
    "cursor = cnx.cursor()\n",
    "\n",
    "cursor.execute(f'DROP TABLE IF EXISTS `sales`')\n",
    "\n",
    "cursor.execute(\n",
    "\n",
    "    \"\"\"\n",
    "\n",
    "    \n",
    "    \n",
    "    CREATE TABLE `sales` ( \n",
    "\n",
    "        `naics_code` varchar(50),\n",
    "        `business` varchar(200),\n",
    "        `month_year` varchar(50),\n",
    "        `sales` varchar(150)\n",
    "    )\n",
    "\n",
    "\"\"\"\n",
    ")\n",
    "\n",
    "cnx.commit()\n",
    "\n",
    "\n"
   ]
  },
  {
   "cell_type": "code",
   "execution_count": 37,
   "metadata": {},
   "outputs": [],
   "source": [
    "import csv\n",
    "\n",
    "\n",
    "sql = (f'INSERT INTO `sales`(`naics_code`,`business`,`month_year`,`sales`) VALUES(%s,%s,%s,%s);')\n",
    "\n",
    "\n",
    "with open('output.csv') as csv_file:\n",
    "      csv = csv.reader(csv_file,delimiter = ',')\n",
    "      next(csv)\n",
    "      for row in csv:\n",
    "            value = (row[1],row[2],row[3],row[4])\n",
    "            cursor.execute(sql,value)\n",
    "            cnx.commit()\n",
    "      for row in csv:\n",
    "            next(csv)\n",
    "            row_count = sum(1 for row in csv)-1\n",
    "\n"
   ]
  },
  {
   "cell_type": "code",
   "execution_count": 33,
   "metadata": {},
   "outputs": [],
   "source": [
    "import csv \n",
    "\n",
    "with open('output.csv') as file:\n",
    "    csv = csv.reader(file)\n",
    "    row_count = sum(1 for row in csv)-1"
   ]
  },
  {
   "cell_type": "code",
   "execution_count": 44,
   "metadata": {},
   "outputs": [
    {
     "data": {
      "text/plain": [
       "22641"
      ]
     },
     "execution_count": 44,
     "metadata": {},
     "output_type": "execute_result"
    }
   ],
   "source": [
    "row_count"
   ]
  },
  {
   "cell_type": "code",
   "execution_count": 48,
   "metadata": {},
   "outputs": [],
   "source": [
    "with open('pw.txt','r') as file:\n",
    "    pw = file.read()"
   ]
  },
  {
   "cell_type": "code",
   "execution_count": 49,
   "metadata": {},
   "outputs": [
    {
     "data": {
      "text/plain": [
       "'Roryreese613!'"
      ]
     },
     "execution_count": 49,
     "metadata": {},
     "output_type": "execute_result"
    }
   ],
   "source": [
    "pw"
   ]
  }
 ],
 "metadata": {
  "kernelspec": {
   "display_name": "base",
   "language": "python",
   "name": "python3"
  },
  "language_info": {
   "codemirror_mode": {
    "name": "ipython",
    "version": 3
   },
   "file_extension": ".py",
   "mimetype": "text/x-python",
   "name": "python",
   "nbconvert_exporter": "python",
   "pygments_lexer": "ipython3",
   "version": "3.10.9"
  }
 },
 "nbformat": 4,
 "nbformat_minor": 2
}
