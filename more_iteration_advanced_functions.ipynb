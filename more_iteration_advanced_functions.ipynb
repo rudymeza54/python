{
 "cells": [
  {
   "attachments": {},
   "cell_type": "markdown",
   "metadata": {},
   "source": [
    "Write a function, sublist, that takes in a list of numbers as the parameter. In the function, use a while loop to return a sublist of the input list. The sublist should contain the same values of the original list up until it reaches the number 5 (it should not contain the number 5)."
   ]
  },
  {
   "cell_type": "code",
   "execution_count": 188,
   "metadata": {},
   "outputs": [],
   "source": [
    "def sublist(list):\n",
    "\n",
    "    idx = 0\n",
    "    accum = []\n",
    "    \n",
    "\n",
    "    if 5 in list:\n",
    "        print(\"True\")\n",
    "        y = list.index(5)\n",
    "        l = list[:y]\n",
    "\n",
    "        while idx < len(l):\n",
    "            accum.append(l[idx])\n",
    "            idx = idx + 1\n",
    "    else:\n",
    "        print(\"False\")\n",
    "        while idx < len(list):\n",
    "            accum.append(list[idx])\n",
    "            idx = idx + 1\n",
    "\n",
    "\n",
    "    \n",
    "\n",
    "    return(accum)\n"
   ]
  },
  {
   "attachments": {},
   "cell_type": "markdown",
   "metadata": {},
   "source": [
    "Write a function called check_nums that takes a list as its parameter, and contains a while loop that only stops once the element of the list is the number 7. What is returned is a list of all of the numbers up until it reaches 7."
   ]
  },
  {
   "cell_type": "code",
   "execution_count": null,
   "metadata": {},
   "outputs": [],
   "source": [
    "def check_nums(list):\n",
    "\n",
    "    idx = 0\n",
    "    accum = []\n",
    "    \n",
    "\n",
    "    if 7 in list:\n",
    "        print(\"True\")\n",
    "        y = list.index(7)\n",
    "        l = list[:y]\n",
    "\n",
    "        while idx < len(l):\n",
    "            accum.append(l[idx])\n",
    "            idx = idx + 1\n",
    "    else:\n",
    "        print(\"False\")\n",
    "        while idx < len(list):\n",
    "            accum.append(list[idx])\n",
    "            idx = idx + 1\n",
    "\n",
    "\n",
    "    \n",
    "\n",
    "    return(accum)"
   ]
  },
  {
   "attachments": {},
   "cell_type": "markdown",
   "metadata": {},
   "source": [
    "Write a function, sublist, that takes in a list of strings as the parameter. In the function, use a while loop to return a sublist of the input list. The sublist should contain the same values of the original list up until it reaches the string “STOP” (it should not contain the string “STOP”)."
   ]
  },
  {
   "cell_type": "code",
   "execution_count": null,
   "metadata": {},
   "outputs": [],
   "source": [
    "def sublist(list):\n",
    "\n",
    "    idx = 0\n",
    "    accum = []\n",
    "    word = \"STOP\"\n",
    "    \n",
    "\n",
    "    if word in list:\n",
    "        print(\"True\")\n",
    "        y = list.index(word)\n",
    "        l = list[:y]\n",
    "\n",
    "        while idx < len(l):\n",
    "            accum.append(l[idx])\n",
    "            idx = idx + 1\n",
    "    else:\n",
    "        print(\"False\")\n",
    "        while idx < len(list):\n",
    "            accum.append(list[idx])\n",
    "            idx = idx + 1\n",
    "\n",
    "\n",
    "    \n",
    "\n",
    "    return(accum)"
   ]
  },
  {
   "attachments": {},
   "cell_type": "markdown",
   "metadata": {},
   "source": [
    "Write a function called stop_at_z that iterates through a list of strings. Using a while loop, append each string to a new list until the string that appears is “z”. The function should return the new list."
   ]
  },
  {
   "cell_type": "code",
   "execution_count": 204,
   "metadata": {},
   "outputs": [],
   "source": [
    "def stop_at_z(list):\n",
    "\n",
    "    idx = 0\n",
    "    accum = []\n",
    "    word = \"z\"\n",
    "    \n",
    "\n",
    "    if word in list:\n",
    "        print(\"True\")\n",
    "        y = list.index(word)\n",
    "        l = list[:y]\n",
    "\n",
    "        while idx < len(l):\n",
    "            accum.append(l[idx])\n",
    "            idx = idx + 1\n",
    "    else:\n",
    "        print(\"False\")\n",
    "        while idx < len(list):\n",
    "            accum.append(list[idx])\n",
    "            idx = idx + 1\n",
    "\n",
    "\n",
    "    \n",
    "\n",
    "    return(accum)"
   ]
  },
  {
   "attachments": {},
   "cell_type": "markdown",
   "metadata": {},
   "source": [
    "Below is a for loop that works. Underneath the for loop, rewrite the problem so that it does the same thing, but using a while loop instead of a for loop. Assign the accumulated total in the while loop code to the variable sum2. Once complete, sum2 should equal sum1."
   ]
  },
  {
   "cell_type": "code",
   "execution_count": null,
   "metadata": {},
   "outputs": [],
   "source": [
    "\n",
    "sum1 = 0\n",
    "\n",
    "lst = [65, 78, 21, 33]\n",
    "\n",
    "for x in lst:\n",
    "    sum1 = sum1 + x\n",
    "\n",
    "\n",
    "idx = 0\n",
    "sum2 = 0\n",
    "\n",
    "while idx < len(lst):\n",
    "    sum2 = sum2 + lst[idx]\n",
    "    idx = idx + 1"
   ]
  },
  {
   "attachments": {},
   "cell_type": "markdown",
   "metadata": {},
   "source": [
    "Write a function called beginning that takes a list as input and contains a while loop that only stops once the element of the list is the string ‘bye’. What is returned is a list that contains up to the first 10 strings, regardless of where the loop stops. (i.e., if it stops on the 32nd element, the first 10 are returned. If “bye” is the 5th element, the first 4 are returned.) If you want to make this even more of a challenge, do this without slicing"
   ]
  },
  {
   "cell_type": "code",
   "execution_count": 237,
   "metadata": {},
   "outputs": [],
   "source": [
    "test = [\"one\",\"two\",\"three\",\"four\",\"one2\",\"two2\",\"three2\",\"four2\",\"one3\",\"two3\",\"three3\",\"four3\",\"bye\"]"
   ]
  },
  {
   "cell_type": "code",
   "execution_count": 241,
   "metadata": {},
   "outputs": [
    {
     "data": {
      "text/plain": [
       "'two'"
      ]
     },
     "execution_count": 241,
     "metadata": {},
     "output_type": "execute_result"
    }
   ],
   "source": [
    "test[1]"
   ]
  },
  {
   "cell_type": "code",
   "execution_count": 252,
   "metadata": {},
   "outputs": [],
   "source": [
    "test = [\"one\",\"two\",\"three\",\"four\",\"bye\"]"
   ]
  },
  {
   "cell_type": "code",
   "execution_count": 253,
   "metadata": {},
   "outputs": [],
   "source": [
    "def beginning(test):\n",
    "\n",
    "\n",
    "        w = \"bye\"\n",
    "        idx = 0\n",
    "        accum = []\n",
    "\n",
    "\n",
    "        x = test.index(w)\n",
    "        y = test[:x]\n",
    "\n",
    "        if w in test and len(test) > 6:\n",
    "            while idx < len(y):\n",
    "                accum.append(y[idx])\n",
    "                idx = idx + 1\n",
    "                if accum:\n",
    "                    accum = accum[:10]\n",
    "        elif w in test  and len(test) < 6:\n",
    "            while idx < len(y):\n",
    "                accum.append(y[idx])\n",
    "                idx = idx + 1\n",
    "                if accum:\n",
    "                    accum = accum[:4]\n",
    "\n",
    "        return(accum)\n",
    "\n",
    "        "
   ]
  },
  {
   "cell_type": "code",
   "execution_count": 254,
   "metadata": {},
   "outputs": [
    {
     "data": {
      "text/plain": [
       "['one', 'two', 'three', 'four']"
      ]
     },
     "execution_count": 254,
     "metadata": {},
     "output_type": "execute_result"
    }
   ],
   "source": [
    "accum"
   ]
  },
  {
   "attachments": {},
   "cell_type": "markdown",
   "metadata": {},
   "source": [
    "# Advanced"
   ]
  },
  {
   "attachments": {},
   "cell_type": "markdown",
   "metadata": {},
   "source": [
    "Create a function called mult that has two parameters, the first is required and should be an integer, the second is an optional parameter that can either be a number or a string but whose default is 6. The function should return the first parameter multiplied by the second."
   ]
  },
  {
   "cell_type": "code",
   "execution_count": 296,
   "metadata": {},
   "outputs": [],
   "source": [
    "def mult(a,b = 6):\n",
    "    a = int(a)\n",
    "\n",
    "\n",
    "\n",
    "\n",
    "    return(a*b)\n"
   ]
  },
  {
   "attachments": {},
   "cell_type": "markdown",
   "metadata": {},
   "source": [
    "The following function, greeting, does not work. Please fix the code so that it runs without error. This only requires one change in the definition of the function.\n"
   ]
  },
  {
   "cell_type": "code",
   "execution_count": 317,
   "metadata": {},
   "outputs": [
    {
     "name": "stdout",
     "output_type": "stream",
     "text": [
      "Hello Bob!\n",
      "Hello !\n",
      "Hello Bob!!!\n"
     ]
    }
   ],
   "source": [
    "def greeting(name,greeting=\"Hello \", excl=\"!\"):\n",
    "    x = greeting + name + excl\n",
    "    return x\n",
    "\n",
    "print(greeting(\"Bob\"))\n",
    "print(greeting(\"\"))\n",
    "print(greeting(\"Bob\", excl=\"!!!\"))"
   ]
  },
  {
   "attachments": {},
   "cell_type": "markdown",
   "metadata": {},
   "source": [
    "Below is a function, sum, that does not work. Change the function definition so the code works. The function should still have a required parameter, intx, and an optional parameter, intz with a defualt value of 5."
   ]
  },
  {
   "cell_type": "code",
   "execution_count": 318,
   "metadata": {},
   "outputs": [],
   "source": [
    "def sum(intx,intz=5):\n",
    "    return intz + intx"
   ]
  },
  {
   "attachments": {},
   "cell_type": "markdown",
   "metadata": {},
   "source": [
    "Write a function, test, that takes in three parameters: a required integer, an optional boolean whose default value is True, and an optional dictionary, called dict1, whose default value is {2:3, 4:5, 6:8}. If the boolean parameter is True, the function should test to see if the integer is a key in the dictionary. The value of that key should then be returned. If the boolean parameter is False, return the boolean value “False”."
   ]
  },
  {
   "cell_type": "code",
   "execution_count": 319,
   "metadata": {},
   "outputs": [],
   "source": [
    "def test(intx,Bool = True , dict1 = {2:3,4:5,6:8}):\n",
    "    if Bool == True:\n",
    "        if intx in dict1:\n",
    "            return dict1.get(intx)\n",
    "    else:\n",
    "        return Bool"
   ]
  },
  {
   "attachments": {},
   "cell_type": "markdown",
   "metadata": {},
   "source": [
    "Write a function called checkingIfIn that takes three parameters. The first is a required parameter, which should be a string. The second is an optional parameter called direction with a default value of True. The third is an optional parameter called d that has a default value of {'apple': 2, 'pear': 1, 'fruit': 19, 'orange': 5, 'banana': 3, 'grapes': 2, 'watermelon': 7}. Write the function checkingIfIn so that when the second parameter is True, it checks to see if the first parameter is a key in the third parameter; if it is, return True, otherwise return False.\n",
    "\n",
    "But if the second paramter is False, then the function should check to see if the first parameter is not a key of the third. If it’s not, the function should return True in this case, and if it is, it should return False."
   ]
  },
  {
   "cell_type": "code",
   "execution_count": null,
   "metadata": {},
   "outputs": [],
   "source": [
    "def checkingIfIn(Str, direction = True, d = {'apple': 2, 'pear': 1, 'fruit': 19, 'orange': 5, 'banana': 3, 'grapes': 2, 'watermelon': 7}):\n",
    "    if direction == True:\n",
    "        if Str in d:\n",
    "            return True\n",
    "        else:\n",
    "            return False\n",
    "    else:\n",
    "        if Str not in d:\n",
    "            return True\n",
    "        else:\n",
    "            return False       "
   ]
  },
  {
   "attachments": {},
   "cell_type": "markdown",
   "metadata": {},
   "source": [
    "We have provided the function checkingIfIn such that if the first input parameter is in the third, dictionary, input parameter, then the function returns that value, and otherwise, it returns False. Follow the instructions in the active code window for specific variable assignmemts.\n",
    "\n",
    "6/6/2023, 9:31:19 AM - 2 of 2\n"
   ]
  },
  {
   "cell_type": "code",
   "execution_count": 320,
   "metadata": {},
   "outputs": [],
   "source": [
    "\n",
    "def checkingIfIn(a, direction = True, d = {'apple': 2, 'pear': 1, 'fruit': 19, 'orange': 5, 'banana': 3, 'grapes': 2, 'watermelon': 7}):\n",
    "    if direction == True:\n",
    "        if a in d:\n",
    "            return d[a]\n",
    "        else:\n",
    "            return False\n",
    "    else:\n",
    "        if a not in d:\n",
    "            return True\n",
    "        else:\n",
    "            return d[a]\n",
    "# Call the function so that it returns False and assign that function call to the variable c_false\n",
    "c_false = checkingIfIn(\"\")\n",
    "# Call the fucntion so that it returns True and assign it to the variable c_true\n",
    "c_true = checkingIfIn(\"\",False)\n",
    "# Call the function so that the value of fruit is assigned to the variable fruit_ans\n",
    "fruit_ans = checkingIfIn(\"fruit\")\n",
    "# Call the function using the first and third parameter so that the value 8 is assigned to the variable param_check\n",
    "param_check = checkingIfIn(\"litchi\",d = {\"litchi\":8})"
   ]
  }
 ],
 "metadata": {
  "kernelspec": {
   "display_name": "base",
   "language": "python",
   "name": "python3"
  },
  "language_info": {
   "codemirror_mode": {
    "name": "ipython",
    "version": 3
   },
   "file_extension": ".py",
   "mimetype": "text/x-python",
   "name": "python",
   "nbconvert_exporter": "python",
   "pygments_lexer": "ipython3",
   "version": "3.10.9"
  },
  "orig_nbformat": 4
 },
 "nbformat": 4,
 "nbformat_minor": 2
}
